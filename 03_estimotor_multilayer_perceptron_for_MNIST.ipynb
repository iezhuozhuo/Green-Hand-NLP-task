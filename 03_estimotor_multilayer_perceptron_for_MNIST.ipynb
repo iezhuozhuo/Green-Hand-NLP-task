{
 "cells": [
  {
   "cell_type": "code",
   "execution_count": 1,
   "metadata": {},
   "outputs": [
    {
     "name": "stderr",
     "output_type": "stream",
     "text": [
      "E:\\Anconda3\\lib\\site-packages\\h5py\\__init__.py:36: FutureWarning: Conversion of the second argument of issubdtype from `float` to `np.floating` is deprecated. In future, it will be treated as `np.float64 == np.dtype(float).type`.\n",
      "  from ._conv import register_converters as _register_converters\n"
     ]
    },
    {
     "name": "stdout",
     "output_type": "stream",
     "text": [
      "WARNING:tensorflow:From <ipython-input-1-baa5981417f5>:3: read_data_sets (from tensorflow.contrib.learn.python.learn.datasets.mnist) is deprecated and will be removed in a future version.\n",
      "Instructions for updating:\n",
      "Please use alternatives such as official/mnist/dataset.py from tensorflow/models.\n",
      "WARNING:tensorflow:From E:\\Anconda3\\lib\\site-packages\\tensorflow\\contrib\\learn\\python\\learn\\datasets\\mnist.py:260: maybe_download (from tensorflow.contrib.learn.python.learn.datasets.base) is deprecated and will be removed in a future version.\n",
      "Instructions for updating:\n",
      "Please write your own downloading logic.\n",
      "WARNING:tensorflow:From E:\\Anconda3\\lib\\site-packages\\tensorflow\\contrib\\learn\\python\\learn\\datasets\\mnist.py:262: extract_images (from tensorflow.contrib.learn.python.learn.datasets.mnist) is deprecated and will be removed in a future version.\n",
      "Instructions for updating:\n",
      "Please use tf.data to implement this functionality.\n",
      "Extracting ./data/train-images-idx3-ubyte.gz\n",
      "WARNING:tensorflow:From E:\\Anconda3\\lib\\site-packages\\tensorflow\\contrib\\learn\\python\\learn\\datasets\\mnist.py:267: extract_labels (from tensorflow.contrib.learn.python.learn.datasets.mnist) is deprecated and will be removed in a future version.\n",
      "Instructions for updating:\n",
      "Please use tf.data to implement this functionality.\n",
      "Extracting ./data/train-labels-idx1-ubyte.gz\n",
      "Extracting ./data/t10k-images-idx3-ubyte.gz\n",
      "Extracting ./data/t10k-labels-idx1-ubyte.gz\n",
      "WARNING:tensorflow:From E:\\Anconda3\\lib\\site-packages\\tensorflow\\contrib\\learn\\python\\learn\\datasets\\mnist.py:290: DataSet.__init__ (from tensorflow.contrib.learn.python.learn.datasets.mnist) is deprecated and will be removed in a future version.\n",
      "Instructions for updating:\n",
      "Please use alternatives such as official/mnist/dataset.py from tensorflow/models.\n"
     ]
    }
   ],
   "source": [
    "import tensorflow as tf\n",
    "from tensorflow.examples.tutorials.mnist import input_data\n",
    "mnist = input_data.read_data_sets(\"./data/\", one_hot=False)"
   ]
  },
  {
   "cell_type": "code",
   "execution_count": 2,
   "metadata": {},
   "outputs": [],
   "source": [
    "num_classes = 10\n",
    "num_hidden = 128\n",
    "drop_rate = 0.3\n",
    "learning_rate = 0.001\n",
    "batch_size = 128\n",
    "num_steps = 8300\n",
    "\n",
    "def multilayer_perceptron(x,reuse=True,is_training=False):\n",
    "    with tf.variable_scope(\"multilayer_perceptron\",reuse=reuse):\n",
    "        output_layer_1 = tf.layers.dense(inputs=x,units=num_hidden)\n",
    "        output_layer_1 = tf.layers.dropout(output_layer_1,rate=drop_rate,training=is_training)\n",
    "        \n",
    "        output_layer_2 = tf.layers.dense(inputs=output_layer_1,units=num_classes)\n",
    "        \n",
    "        return output_layer_2\n",
    "\n",
    "def model_fn(features,labels,mode):\n",
    "    x = features[\"images\"]\n",
    "    \n",
    "    logit_train = multilayer_perceptron(x,reuse=False,is_training=True)\n",
    "    logit_test = multilayer_perceptron(x,reuse=True,is_training=False)\n",
    "    \n",
    "    pre_class = tf.argmax(logit_test,1)\n",
    "    \n",
    "    if mode == tf.estimator.ModeKeys.PREDICT:\n",
    "        return tf.estimator.EstimatorSpec(mode,predictions=logit_test)\n",
    "    \n",
    "    loss_op = tf.reduce_mean(tf.nn.sparse_softmax_cross_entropy_with_logits(logits=logit_train,\n",
    "                                                                           labels=tf.cast(labels,tf.int32)))\n",
    "    train_op = tf.train.AdamOptimizer(learning_rate).minimize(loss_op,\n",
    "                                                              global_step=tf.train.get_global_step())\n",
    "    acc_op = tf.metrics.accuracy(labels=labels,predictions=pre_class)\n",
    "    \n",
    "    esc = tf.estimator.EstimatorSpec(mode,loss=loss_op,train_op=train_op,eval_metric_ops={\"accuracy\":acc_op},predictions=pre_class)\n",
    "    \n",
    "    return esc\n"
   ]
  },
  {
   "cell_type": "code",
   "execution_count": 3,
   "metadata": {},
   "outputs": [
    {
     "name": "stdout",
     "output_type": "stream",
     "text": [
      "INFO:tensorflow:Using default config.\n",
      "WARNING:tensorflow:Using temporary folder as model directory: C:\\Users\\卓卓\\AppData\\Local\\Temp\\tmp0n1bal0y\n",
      "INFO:tensorflow:Using config: {'_model_dir': 'C:\\\\Users\\\\卓卓\\\\AppData\\\\Local\\\\Temp\\\\tmp0n1bal0y', '_tf_random_seed': None, '_save_summary_steps': 100, '_save_checkpoints_steps': None, '_save_checkpoints_secs': 600, '_session_config': None, '_keep_checkpoint_max': 5, '_keep_checkpoint_every_n_hours': 10000, '_log_step_count_steps': 100, '_train_distribute': None, '_device_fn': None, '_service': None, '_cluster_spec': <tensorflow.python.training.server_lib.ClusterSpec object at 0x000001FB23684470>, '_task_type': 'worker', '_task_id': 0, '_global_id_in_cluster': 0, '_master': '', '_evaluation_master': '', '_is_chief': True, '_num_ps_replicas': 0, '_num_worker_replicas': 1}\n"
     ]
    }
   ],
   "source": [
    "model = tf.estimator.Estimator(model_fn)"
   ]
  },
  {
   "cell_type": "code",
   "execution_count": 4,
   "metadata": {},
   "outputs": [
    {
     "name": "stdout",
     "output_type": "stream",
     "text": [
      "INFO:tensorflow:Calling model_fn.\n",
      "INFO:tensorflow:Done calling model_fn.\n",
      "INFO:tensorflow:Create CheckpointSaverHook.\n",
      "INFO:tensorflow:Graph was finalized.\n",
      "INFO:tensorflow:Running local_init_op.\n",
      "INFO:tensorflow:Done running local_init_op.\n",
      "INFO:tensorflow:Saving checkpoints for 0 into C:\\Users\\卓卓\\AppData\\Local\\Temp\\tmp0n1bal0y\\model.ckpt.\n",
      "INFO:tensorflow:loss = 2.3970351, step = 1\n",
      "INFO:tensorflow:global_step/sec: 618.932\n",
      "INFO:tensorflow:loss = 0.44930625, step = 101 (0.163 sec)\n",
      "INFO:tensorflow:global_step/sec: 721.352\n",
      "INFO:tensorflow:loss = 0.35778984, step = 201 (0.139 sec)\n",
      "INFO:tensorflow:global_step/sec: 748.263\n",
      "INFO:tensorflow:loss = 0.36686218, step = 301 (0.134 sec)\n",
      "INFO:tensorflow:global_step/sec: 789.506\n",
      "INFO:tensorflow:loss = 0.5642871, step = 401 (0.127 sec)\n",
      "INFO:tensorflow:global_step/sec: 795.77\n",
      "INFO:tensorflow:loss = 0.29384053, step = 501 (0.126 sec)\n",
      "INFO:tensorflow:global_step/sec: 771.287\n",
      "INFO:tensorflow:loss = 0.4426526, step = 601 (0.130 sec)\n",
      "INFO:tensorflow:global_step/sec: 815.18\n",
      "INFO:tensorflow:loss = 0.27443558, step = 701 (0.123 sec)\n",
      "INFO:tensorflow:global_step/sec: 783.232\n",
      "INFO:tensorflow:loss = 0.2674315, step = 801 (0.128 sec)\n",
      "INFO:tensorflow:global_step/sec: 808.72\n",
      "INFO:tensorflow:loss = 0.3661565, step = 901 (0.125 sec)\n",
      "INFO:tensorflow:global_step/sec: 795.771\n",
      "INFO:tensorflow:loss = 0.27861118, step = 1001 (0.125 sec)\n",
      "INFO:tensorflow:global_step/sec: 721.348\n",
      "INFO:tensorflow:loss = 0.22972664, step = 1101 (0.139 sec)\n",
      "INFO:tensorflow:global_step/sec: 721.351\n",
      "INFO:tensorflow:loss = 0.1868936, step = 1201 (0.139 sec)\n",
      "INFO:tensorflow:global_step/sec: 802.133\n",
      "INFO:tensorflow:loss = 0.34600985, step = 1301 (0.125 sec)\n",
      "INFO:tensorflow:global_step/sec: 789.504\n",
      "INFO:tensorflow:loss = 0.29753685, step = 1401 (0.127 sec)\n",
      "INFO:tensorflow:global_step/sec: 701.172\n",
      "INFO:tensorflow:loss = 0.22389129, step = 1501 (0.143 sec)\n",
      "INFO:tensorflow:global_step/sec: 716.192\n",
      "INFO:tensorflow:loss = 0.2856766, step = 1601 (0.140 sec)\n",
      "INFO:tensorflow:global_step/sec: 777.27\n",
      "INFO:tensorflow:loss = 0.40954643, step = 1701 (0.129 sec)\n",
      "INFO:tensorflow:global_step/sec: 759.6\n",
      "INFO:tensorflow:loss = 0.41653484, step = 1801 (0.132 sec)\n",
      "INFO:tensorflow:global_step/sec: 726.571\n",
      "INFO:tensorflow:loss = 0.27616695, step = 1901 (0.138 sec)\n",
      "INFO:tensorflow:global_step/sec: 777.268\n",
      "INFO:tensorflow:loss = 0.37728146, step = 2001 (0.128 sec)\n",
      "INFO:tensorflow:global_step/sec: 828.653\n",
      "INFO:tensorflow:loss = 0.22636542, step = 2101 (0.122 sec)\n",
      "INFO:tensorflow:global_step/sec: 821.861\n",
      "INFO:tensorflow:loss = 0.24591202, step = 2201 (0.121 sec)\n",
      "INFO:tensorflow:global_step/sec: 864.374\n",
      "INFO:tensorflow:loss = 0.46700433, step = 2301 (0.118 sec)\n",
      "INFO:tensorflow:global_step/sec: 856.988\n",
      "INFO:tensorflow:loss = 0.2658969, step = 2401 (0.116 sec)\n",
      "INFO:tensorflow:global_step/sec: 828.652\n",
      "INFO:tensorflow:loss = 0.15945233, step = 2501 (0.121 sec)\n",
      "INFO:tensorflow:global_step/sec: 835.565\n",
      "INFO:tensorflow:loss = 0.23854214, step = 2601 (0.120 sec)\n",
      "INFO:tensorflow:global_step/sec: 864.367\n",
      "INFO:tensorflow:loss = 0.37535697, step = 2701 (0.116 sec)\n",
      "INFO:tensorflow:global_step/sec: 835.565\n",
      "INFO:tensorflow:loss = 0.2135367, step = 2801 (0.120 sec)\n",
      "INFO:tensorflow:global_step/sec: 765.398\n",
      "INFO:tensorflow:loss = 0.22293803, step = 2901 (0.131 sec)\n",
      "INFO:tensorflow:global_step/sec: 759.6\n",
      "INFO:tensorflow:loss = 0.34195098, step = 3001 (0.132 sec)\n",
      "INFO:tensorflow:global_step/sec: 802.134\n",
      "INFO:tensorflow:loss = 0.24886322, step = 3101 (0.126 sec)\n",
      "INFO:tensorflow:global_step/sec: 821.865\n",
      "INFO:tensorflow:loss = 0.18107611, step = 3201 (0.122 sec)\n",
      "INFO:tensorflow:global_step/sec: 821.863\n",
      "INFO:tensorflow:loss = 0.44095165, step = 3301 (0.121 sec)\n",
      "INFO:tensorflow:global_step/sec: 849.731\n",
      "INFO:tensorflow:loss = 0.26037818, step = 3401 (0.118 sec)\n",
      "INFO:tensorflow:global_step/sec: 849.71\n",
      "INFO:tensorflow:loss = 0.23435128, step = 3501 (0.117 sec)\n",
      "INFO:tensorflow:global_step/sec: 871.895\n",
      "INFO:tensorflow:loss = 0.39548615, step = 3601 (0.116 sec)\n",
      "INFO:tensorflow:global_step/sec: 828.657\n",
      "INFO:tensorflow:loss = 0.2371115, step = 3701 (0.122 sec)\n",
      "INFO:tensorflow:global_step/sec: 753.889\n",
      "INFO:tensorflow:loss = 0.37469226, step = 3801 (0.132 sec)\n",
      "INFO:tensorflow:global_step/sec: 808.608\n",
      "INFO:tensorflow:loss = 0.29326174, step = 3901 (0.124 sec)\n",
      "INFO:tensorflow:global_step/sec: 815.177\n",
      "INFO:tensorflow:loss = 0.39842921, step = 4001 (0.123 sec)\n",
      "INFO:tensorflow:global_step/sec: 815.183\n",
      "INFO:tensorflow:loss = 0.22602542, step = 4101 (0.123 sec)\n",
      "INFO:tensorflow:global_step/sec: 815.183\n",
      "INFO:tensorflow:loss = 0.10595296, step = 4201 (0.124 sec)\n",
      "INFO:tensorflow:global_step/sec: 849.719\n",
      "INFO:tensorflow:loss = 0.18211381, step = 4301 (0.118 sec)\n",
      "INFO:tensorflow:global_step/sec: 821.863\n",
      "INFO:tensorflow:loss = 0.33945554, step = 4401 (0.121 sec)\n",
      "INFO:tensorflow:global_step/sec: 835.564\n",
      "INFO:tensorflow:loss = 0.42171764, step = 4501 (0.120 sec)\n",
      "INFO:tensorflow:global_step/sec: 856.983\n",
      "INFO:tensorflow:loss = 0.26735207, step = 4601 (0.117 sec)\n",
      "INFO:tensorflow:global_step/sec: 828.655\n",
      "INFO:tensorflow:loss = 0.30241984, step = 4701 (0.121 sec)\n",
      "INFO:tensorflow:global_step/sec: 828.657\n",
      "INFO:tensorflow:loss = 0.15968823, step = 4801 (0.121 sec)\n",
      "INFO:tensorflow:global_step/sec: 771.275\n",
      "INFO:tensorflow:loss = 0.3485997, step = 4901 (0.130 sec)\n",
      "INFO:tensorflow:global_step/sec: 759.606\n",
      "INFO:tensorflow:loss = 0.16169956, step = 5001 (0.132 sec)\n",
      "INFO:tensorflow:global_step/sec: 828.658\n",
      "INFO:tensorflow:loss = 0.29126638, step = 5101 (0.121 sec)\n",
      "INFO:tensorflow:global_step/sec: 856.984\n",
      "INFO:tensorflow:loss = 0.38540292, step = 5201 (0.117 sec)\n",
      "INFO:tensorflow:global_step/sec: 856.983\n",
      "INFO:tensorflow:loss = 0.10676782, step = 5301 (0.117 sec)\n",
      "INFO:tensorflow:global_step/sec: 856.991\n",
      "INFO:tensorflow:loss = 0.12472653, step = 5401 (0.117 sec)\n",
      "INFO:tensorflow:global_step/sec: 856.979\n",
      "INFO:tensorflow:loss = 0.17096408, step = 5501 (0.117 sec)\n",
      "INFO:tensorflow:global_step/sec: 849.727\n",
      "INFO:tensorflow:loss = 0.2284081, step = 5601 (0.119 sec)\n",
      "INFO:tensorflow:global_step/sec: 835.559\n",
      "INFO:tensorflow:loss = 0.3146454, step = 5701 (0.119 sec)\n",
      "INFO:tensorflow:global_step/sec: 748.261\n",
      "INFO:tensorflow:loss = 0.22243434, step = 5801 (0.134 sec)\n",
      "INFO:tensorflow:global_step/sec: 777.27\n",
      "INFO:tensorflow:loss = 0.21527694, step = 5901 (0.129 sec)\n",
      "INFO:tensorflow:global_step/sec: 842.577\n",
      "INFO:tensorflow:loss = 0.30977494, step = 6001 (0.119 sec)\n",
      "INFO:tensorflow:global_step/sec: 835.564\n",
      "INFO:tensorflow:loss = 0.16585341, step = 6101 (0.120 sec)\n",
      "INFO:tensorflow:global_step/sec: 828.65\n",
      "INFO:tensorflow:loss = 0.31425872, step = 6201 (0.120 sec)\n",
      "INFO:tensorflow:global_step/sec: 842.583\n",
      "INFO:tensorflow:loss = 0.25747126, step = 6301 (0.121 sec)\n",
      "INFO:tensorflow:global_step/sec: 742.716\n",
      "INFO:tensorflow:loss = 0.109070085, step = 6401 (0.134 sec)\n",
      "INFO:tensorflow:global_step/sec: 815.186\n",
      "INFO:tensorflow:loss = 0.27818894, step = 6501 (0.123 sec)\n",
      "INFO:tensorflow:global_step/sec: 842.583\n",
      "INFO:tensorflow:loss = 0.3708676, step = 6601 (0.119 sec)\n",
      "INFO:tensorflow:global_step/sec: 842.58\n",
      "INFO:tensorflow:loss = 0.37242204, step = 6701 (0.119 sec)\n",
      "INFO:tensorflow:global_step/sec: 777.264\n",
      "INFO:tensorflow:loss = 0.22044472, step = 6801 (0.129 sec)\n",
      "INFO:tensorflow:global_step/sec: 802.139\n",
      "INFO:tensorflow:loss = 0.29906404, step = 6901 (0.125 sec)\n",
      "INFO:tensorflow:global_step/sec: 849.722\n",
      "INFO:tensorflow:loss = 0.31841108, step = 7001 (0.118 sec)\n",
      "INFO:tensorflow:global_step/sec: 842.58\n",
      "INFO:tensorflow:loss = 0.29524553, step = 7101 (0.119 sec)\n",
      "INFO:tensorflow:global_step/sec: 759.605\n",
      "INFO:tensorflow:loss = 0.16837144, step = 7201 (0.134 sec)\n",
      "INFO:tensorflow:global_step/sec: 777.266\n",
      "INFO:tensorflow:loss = 0.5688229, step = 7301 (0.127 sec)\n",
      "INFO:tensorflow:global_step/sec: 835.554\n",
      "INFO:tensorflow:loss = 0.268548, step = 7401 (0.120 sec)\n",
      "INFO:tensorflow:global_step/sec: 842.577\n",
      "INFO:tensorflow:loss = 0.26488823, step = 7501 (0.119 sec)\n",
      "INFO:tensorflow:global_step/sec: 777.273\n",
      "INFO:tensorflow:loss = 0.2705909, step = 7601 (0.129 sec)\n",
      "INFO:tensorflow:global_step/sec: 771.275\n",
      "INFO:tensorflow:loss = 0.18650562, step = 7701 (0.130 sec)\n",
      "INFO:tensorflow:global_step/sec: 821.874\n",
      "INFO:tensorflow:loss = 0.13451256, step = 7801 (0.122 sec)\n",
      "INFO:tensorflow:global_step/sec: 856.988\n",
      "INFO:tensorflow:loss = 0.37765735, step = 7901 (0.117 sec)\n"
     ]
    },
    {
     "name": "stdout",
     "output_type": "stream",
     "text": [
      "INFO:tensorflow:global_step/sec: 802.136\n",
      "INFO:tensorflow:loss = 0.4247058, step = 8001 (0.126 sec)\n",
      "INFO:tensorflow:global_step/sec: 777.267\n",
      "INFO:tensorflow:loss = 0.12477614, step = 8101 (0.129 sec)\n",
      "INFO:tensorflow:global_step/sec: 842.583\n",
      "INFO:tensorflow:loss = 0.3132099, step = 8201 (0.118 sec)\n",
      "INFO:tensorflow:Saving checkpoints for 8300 into C:\\Users\\卓卓\\AppData\\Local\\Temp\\tmp0n1bal0y\\model.ckpt.\n",
      "INFO:tensorflow:Loss for final step: 0.14940348.\n"
     ]
    },
    {
     "data": {
      "text/plain": [
       "<tensorflow.python.estimator.estimator.Estimator at 0x1fb236842e8>"
      ]
     },
     "execution_count": 4,
     "metadata": {},
     "output_type": "execute_result"
    }
   ],
   "source": [
    "# Define the input function for training\n",
    "input_fn = tf.estimator.inputs.numpy_input_fn(\n",
    "    x={'images': mnist.train.images}, y=mnist.train.labels,\n",
    "    batch_size=batch_size, num_epochs=None, shuffle=True)\n",
    "# Train the Model\n",
    "model.train(input_fn, steps=num_steps)"
   ]
  },
  {
   "cell_type": "code",
   "execution_count": 5,
   "metadata": {
    "scrolled": true
   },
   "outputs": [
    {
     "name": "stdout",
     "output_type": "stream",
     "text": [
      "INFO:tensorflow:Calling model_fn.\n",
      "INFO:tensorflow:Done calling model_fn.\n",
      "INFO:tensorflow:Starting evaluation at 2019-01-30-09:49:22\n",
      "INFO:tensorflow:Graph was finalized.\n",
      "INFO:tensorflow:Restoring parameters from C:\\Users\\卓卓\\AppData\\Local\\Temp\\tmp0n1bal0y\\model.ckpt-8300\n",
      "INFO:tensorflow:Running local_init_op.\n",
      "INFO:tensorflow:Done running local_init_op.\n",
      "INFO:tensorflow:Finished evaluation at 2019-01-30-09:49:23\n",
      "INFO:tensorflow:Saving dict for global step 8300: accuracy = 0.9262, global_step = 8300, loss = 0.29185098\n",
      "INFO:tensorflow:Saving 'checkpoint_path' summary for global step 8300: C:\\Users\\卓卓\\AppData\\Local\\Temp\\tmp0n1bal0y\\model.ckpt-8300\n"
     ]
    },
    {
     "data": {
      "text/plain": [
       "{'accuracy': 0.9262, 'loss': 0.29185098, 'global_step': 8300}"
      ]
     },
     "execution_count": 5,
     "metadata": {},
     "output_type": "execute_result"
    }
   ],
   "source": [
    "input_fn = tf.estimator.inputs.numpy_input_fn(\n",
    "    x={'images': mnist.test.images}, y=mnist.test.labels,\n",
    "    batch_size=batch_size, shuffle=False)\n",
    "model.evaluate(input_fn)"
   ]
  },
  {
   "cell_type": "code",
   "execution_count": null,
   "metadata": {},
   "outputs": [],
   "source": []
  }
 ],
 "metadata": {
  "kernelspec": {
   "display_name": "Python 3",
   "language": "python",
   "name": "python3"
  },
  "language_info": {
   "codemirror_mode": {
    "name": "ipython",
    "version": 3
   },
   "file_extension": ".py",
   "mimetype": "text/x-python",
   "name": "python",
   "nbconvert_exporter": "python",
   "pygments_lexer": "ipython3",
   "version": "3.6.5"
  }
 },
 "nbformat": 4,
 "nbformat_minor": 2
}
