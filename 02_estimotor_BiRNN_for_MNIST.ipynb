{
 "cells": [
  {
   "cell_type": "code",
   "execution_count": 1,
   "metadata": {},
   "outputs": [
    {
     "name": "stderr",
     "output_type": "stream",
     "text": [
      "E:\\anconda3\\lib\\site-packages\\h5py\\__init__.py:36: FutureWarning: Conversion of the second argument of issubdtype from `float` to `np.floating` is deprecated. In future, it will be treated as `np.float64 == np.dtype(float).type`.\n",
      "  from ._conv import register_converters as _register_converters\n"
     ]
    },
    {
     "name": "stdout",
     "output_type": "stream",
     "text": [
      "WARNING:tensorflow:From <ipython-input-1-baaf2afa1b55>:5: read_data_sets (from tensorflow.contrib.learn.python.learn.datasets.mnist) is deprecated and will be removed in a future version.\n",
      "Instructions for updating:\n",
      "Please use alternatives such as official/mnist/dataset.py from tensorflow/models.\n",
      "WARNING:tensorflow:From E:\\anconda3\\lib\\site-packages\\tensorflow\\contrib\\learn\\python\\learn\\datasets\\mnist.py:260: maybe_download (from tensorflow.contrib.learn.python.learn.datasets.base) is deprecated and will be removed in a future version.\n",
      "Instructions for updating:\n",
      "Please write your own downloading logic.\n",
      "WARNING:tensorflow:From E:\\anconda3\\lib\\site-packages\\tensorflow\\contrib\\learn\\python\\learn\\datasets\\mnist.py:262: extract_images (from tensorflow.contrib.learn.python.learn.datasets.mnist) is deprecated and will be removed in a future version.\n",
      "Instructions for updating:\n",
      "Please use tf.data to implement this functionality.\n",
      "Extracting ../Data/mnist\\train-images-idx3-ubyte.gz\n",
      "WARNING:tensorflow:From E:\\anconda3\\lib\\site-packages\\tensorflow\\contrib\\learn\\python\\learn\\datasets\\mnist.py:267: extract_labels (from tensorflow.contrib.learn.python.learn.datasets.mnist) is deprecated and will be removed in a future version.\n",
      "Instructions for updating:\n",
      "Please use tf.data to implement this functionality.\n",
      "Extracting ../Data/mnist\\train-labels-idx1-ubyte.gz\n",
      "Extracting ../Data/mnist\\t10k-images-idx3-ubyte.gz\n",
      "Extracting ../Data/mnist\\t10k-labels-idx1-ubyte.gz\n",
      "WARNING:tensorflow:From E:\\anconda3\\lib\\site-packages\\tensorflow\\contrib\\learn\\python\\learn\\datasets\\mnist.py:290: DataSet.__init__ (from tensorflow.contrib.learn.python.learn.datasets.mnist) is deprecated and will be removed in a future version.\n",
      "Instructions for updating:\n",
      "Please use alternatives such as official/mnist/dataset.py from tensorflow/models.\n"
     ]
    }
   ],
   "source": [
    "import tensorflow as tf \n",
    "from tensorflow.contrib import rnn\n",
    "\n",
    "from tensorflow.examples.tutorials.mnist import input_data\n",
    "mnist = input_data.read_data_sets(\"../Data/mnist\",one_hot=False)"
   ]
  },
  {
   "cell_type": "markdown",
   "metadata": {},
   "source": [
    "#### 参数设置"
   ]
  },
  {
   "cell_type": "code",
   "execution_count": 2,
   "metadata": {},
   "outputs": [],
   "source": [
    "timestep = 28\n",
    "num_hidden = 128\n",
    "num_classes = 10\n",
    "learn_rate = 0.1\n",
    "batch_size = 128\n",
    "train_steps = 4300"
   ]
  },
  {
   "cell_type": "markdown",
   "metadata": {},
   "source": [
    "#### 模型构建\n",
    "[关于static_bidirectional_rnn详解的链接](https://blog.csdn.net/u013230189/article/details/82807543)"
   ]
  },
  {
   "cell_type": "code",
   "execution_count": 4,
   "metadata": {},
   "outputs": [],
   "source": [
    "def BiRNN(x_dict,reuse):\n",
    "    with tf.variable_scope(\"BiRNN\",reuse=reuse):\n",
    "        x = x_dict[\"images\"]\n",
    "        x = tf.reshape(x,shape=[-1,28,28])\n",
    "\n",
    "        x = tf.unstack(x,num=timestep,axis=1)\n",
    "\n",
    "        rnn_cell_fw = rnn.BasicLSTMCell(num_hidden,forget_bias=1.0)\n",
    "        rnn_cell_bw = rnn.BasicLSTMCell(num_hidden,forget_bias=1.0)\n",
    "        \n",
    "        outputs, fw, bw = rnn.static_bidirectional_rnn(cell_fw=rnn_cell_fw,cell_bw=rnn_cell_bw,inputs=x,dtype=tf.float32)\n",
    "\n",
    "        out = tf.layers.dense(outputs[-1],num_classes)\n",
    "    \n",
    "    return out\n",
    "\n",
    "def model_fn(features,labels,mode):\n",
    "    logit_train = BiRNN(features,reuse=False)\n",
    "    logit_test = BiRNN(features,reuse=True)\n",
    "    \n",
    "    # Predictions\n",
    "    pred_classes = tf.argmax(logit_test, axis=1)\n",
    "    pred_probas = tf.nn.softmax(logit_test)\n",
    "    \n",
    "    \n",
    "    \n",
    "    if mode == tf.estimator.ModeKeys.PREDICT:\n",
    "        return tf.estimator.EstimatorSpec(mode,predictions=pred_classes)\n",
    "    \n",
    "    loss_op = tf.reduce_mean(tf.nn.sparse_softmax_cross_entropy_with_logits(logits=logit_train,\n",
    "                                                                            labels=tf.cast(labels,dtype=tf.int32)))\n",
    "    optimizer = tf.train.GradientDescentOptimizer(learning_rate=learn_rate)\n",
    "    train_op = optimizer.minimize(loss_op,global_step=tf.train.get_global_step())#,global_step=tf.train.get_global_step()\n",
    "                             \n",
    "    acc_op = tf.metrics.accuracy(labels=labels,predictions=pred_classes)\n",
    "    \n",
    "    estim_spec = tf.estimator.EstimatorSpec(mode,predictions=pred_classes,loss=loss_op,train_op=train_op,eval_metric_ops={\"accuracy\":acc_op})\n",
    "    \n",
    "    return estim_spec"
   ]
  },
  {
   "cell_type": "markdown",
   "metadata": {},
   "source": [
    "#### complie模型"
   ]
  },
  {
   "cell_type": "code",
   "execution_count": 5,
   "metadata": {},
   "outputs": [
    {
     "name": "stdout",
     "output_type": "stream",
     "text": [
      "INFO:tensorflow:Using default config.\n",
      "INFO:tensorflow:Using config: {'_model_dir': './model_birnn', '_tf_random_seed': None, '_save_summary_steps': 100, '_save_checkpoints_steps': None, '_save_checkpoints_secs': 600, '_session_config': None, '_keep_checkpoint_max': 5, '_keep_checkpoint_every_n_hours': 10000, '_log_step_count_steps': 100, '_train_distribute': None, '_device_fn': None, '_service': None, '_cluster_spec': <tensorflow.python.training.server_lib.ClusterSpec object at 0x000001F20B725438>, '_task_type': 'worker', '_task_id': 0, '_global_id_in_cluster': 0, '_master': '', '_evaluation_master': '', '_is_chief': True, '_num_ps_replicas': 0, '_num_worker_replicas': 1}\n"
     ]
    }
   ],
   "source": [
    "model = tf.estimator.Estimator(model_fn,model_dir=\"./model_birnn\")"
   ]
  },
  {
   "cell_type": "markdown",
   "metadata": {},
   "source": [
    "#### 训练模型"
   ]
  },
  {
   "cell_type": "code",
   "execution_count": 6,
   "metadata": {},
   "outputs": [
    {
     "name": "stdout",
     "output_type": "stream",
     "text": [
      "INFO:tensorflow:Calling model_fn.\n",
      "INFO:tensorflow:Done calling model_fn.\n",
      "INFO:tensorflow:Create CheckpointSaverHook.\n",
      "INFO:tensorflow:Graph was finalized.\n",
      "INFO:tensorflow:Running local_init_op.\n",
      "INFO:tensorflow:Done running local_init_op.\n",
      "INFO:tensorflow:Saving checkpoints for 0 into ./model_birnn\\model.ckpt.\n",
      "INFO:tensorflow:loss = 2.298317, step = 1\n",
      "INFO:tensorflow:global_step/sec: 19.1644\n",
      "INFO:tensorflow:loss = 1.7527571, step = 101 (5.220 sec)\n",
      "INFO:tensorflow:global_step/sec: 22.8806\n",
      "INFO:tensorflow:loss = 1.7190038, step = 201 (4.372 sec)\n",
      "INFO:tensorflow:global_step/sec: 24.0753\n",
      "INFO:tensorflow:loss = 1.0655882, step = 301 (4.153 sec)\n",
      "INFO:tensorflow:global_step/sec: 24.0118\n",
      "INFO:tensorflow:loss = 0.79619247, step = 401 (4.165 sec)\n",
      "INFO:tensorflow:global_step/sec: 24.0811\n",
      "INFO:tensorflow:loss = 0.6947672, step = 501 (4.153 sec)\n",
      "INFO:tensorflow:global_step/sec: 24.0233\n",
      "INFO:tensorflow:loss = 0.54318005, step = 601 (4.163 sec)\n",
      "INFO:tensorflow:global_step/sec: 23.7609\n",
      "INFO:tensorflow:loss = 0.3437186, step = 701 (4.209 sec)\n",
      "INFO:tensorflow:global_step/sec: 23.9772\n",
      "INFO:tensorflow:loss = 0.2115692, step = 801 (4.172 sec)\n",
      "INFO:tensorflow:global_step/sec: 23.8005\n",
      "INFO:tensorflow:loss = 0.3750574, step = 901 (4.201 sec)\n",
      "INFO:tensorflow:global_step/sec: 23.9715\n",
      "INFO:tensorflow:loss = 0.24600476, step = 1001 (4.172 sec)\n",
      "INFO:tensorflow:global_step/sec: 23.7948\n",
      "INFO:tensorflow:loss = 0.18316811, step = 1101 (4.204 sec)\n",
      "INFO:tensorflow:global_step/sec: 23.7552\n",
      "INFO:tensorflow:loss = 0.16441539, step = 1201 (4.208 sec)\n",
      "INFO:tensorflow:global_step/sec: 24.0291\n",
      "INFO:tensorflow:loss = 0.1451474, step = 1301 (4.164 sec)\n",
      "INFO:tensorflow:global_step/sec: 24.0291\n",
      "INFO:tensorflow:loss = 0.15274319, step = 1401 (4.162 sec)\n",
      "INFO:tensorflow:global_step/sec: 23.9543\n",
      "INFO:tensorflow:loss = 0.13619214, step = 1501 (4.174 sec)\n",
      "INFO:tensorflow:global_step/sec: 24.1567\n",
      "INFO:tensorflow:loss = 0.21089208, step = 1601 (4.140 sec)\n",
      "INFO:tensorflow:global_step/sec: 24.4998\n",
      "INFO:tensorflow:loss = 0.18392946, step = 1701 (4.082 sec)\n",
      "INFO:tensorflow:global_step/sec: 24.4758\n",
      "INFO:tensorflow:loss = 0.16125149, step = 1801 (4.086 sec)\n",
      "INFO:tensorflow:global_step/sec: 24.4998\n",
      "INFO:tensorflow:loss = 0.07009437, step = 1901 (4.081 sec)\n",
      "INFO:tensorflow:global_step/sec: 24.5058\n",
      "INFO:tensorflow:loss = 0.17742388, step = 2001 (4.082 sec)\n",
      "INFO:tensorflow:global_step/sec: 24.4161\n",
      "INFO:tensorflow:loss = 0.18640302, step = 2101 (4.096 sec)\n",
      "INFO:tensorflow:global_step/sec: 24.5118\n",
      "INFO:tensorflow:loss = 0.15886378, step = 2201 (4.080 sec)\n",
      "INFO:tensorflow:global_step/sec: 24.5901\n",
      "INFO:tensorflow:loss = 0.055471495, step = 2301 (4.067 sec)\n",
      "INFO:tensorflow:global_step/sec: 24.5178\n",
      "INFO:tensorflow:loss = 0.07376732, step = 2401 (4.079 sec)\n",
      "INFO:tensorflow:global_step/sec: 24.4878\n",
      "INFO:tensorflow:loss = 0.12191543, step = 2501 (4.084 sec)\n",
      "INFO:tensorflow:global_step/sec: 24.5358\n",
      "INFO:tensorflow:loss = 0.13799162, step = 2601 (4.076 sec)\n",
      "INFO:tensorflow:global_step/sec: 23.983\n",
      "INFO:tensorflow:loss = 0.09763812, step = 2701 (4.171 sec)\n",
      "INFO:tensorflow:global_step/sec: 24.2386\n",
      "INFO:tensorflow:loss = 0.07986885, step = 2801 (4.165 sec)\n",
      "INFO:tensorflow:global_step/sec: 24.0406\n",
      "INFO:tensorflow:loss = 0.16722858, step = 2901 (4.121 sec)\n",
      "INFO:tensorflow:global_step/sec: 24.3152\n",
      "INFO:tensorflow:loss = 0.0083580585, step = 3001 (4.112 sec)\n",
      "INFO:tensorflow:global_step/sec: 24.2035\n",
      "INFO:tensorflow:loss = 0.046748918, step = 3101 (4.132 sec)\n",
      "INFO:tensorflow:global_step/sec: 24.3566\n",
      "INFO:tensorflow:loss = 0.103064656, step = 3201 (4.107 sec)\n",
      "INFO:tensorflow:global_step/sec: 24.1451\n",
      "INFO:tensorflow:loss = 0.19789998, step = 3301 (4.141 sec)\n",
      "INFO:tensorflow:global_step/sec: 24.327\n",
      "INFO:tensorflow:loss = 0.1057681, step = 3401 (4.111 sec)\n",
      "INFO:tensorflow:global_step/sec: 24.3863\n",
      "INFO:tensorflow:loss = 0.1706056, step = 3501 (4.101 sec)\n",
      "INFO:tensorflow:global_step/sec: 24.1801\n",
      "INFO:tensorflow:loss = 0.0747083, step = 3601 (4.136 sec)\n",
      "INFO:tensorflow:global_step/sec: 24.3034\n",
      "INFO:tensorflow:loss = 0.05262992, step = 3701 (4.114 sec)\n",
      "INFO:tensorflow:global_step/sec: 24.5358\n",
      "INFO:tensorflow:loss = 0.036421884, step = 3801 (4.077 sec)\n",
      "INFO:tensorflow:global_step/sec: 24.2621\n",
      "INFO:tensorflow:loss = 0.062539026, step = 3901 (4.122 sec)\n",
      "INFO:tensorflow:global_step/sec: 24.268\n",
      "INFO:tensorflow:loss = 0.10537227, step = 4001 (4.121 sec)\n",
      "INFO:tensorflow:global_step/sec: 24.2563\n",
      "INFO:tensorflow:loss = 0.080869585, step = 4101 (4.123 sec)\n",
      "INFO:tensorflow:global_step/sec: 24.1859\n",
      "INFO:tensorflow:loss = 0.123541355, step = 4201 (4.135 sec)\n",
      "INFO:tensorflow:Saving checkpoints for 4300 into ./model_birnn\\model.ckpt.\n",
      "INFO:tensorflow:Loss for final step: 0.11388403.\n"
     ]
    },
    {
     "data": {
      "text/plain": [
       "<tensorflow.python.estimator.estimator.Estimator at 0x1f20b725080>"
      ]
     },
     "execution_count": 6,
     "metadata": {},
     "output_type": "execute_result"
    }
   ],
   "source": [
    "input_fn = tf.estimator.inputs.numpy_input_fn(x={\"images\":mnist.train.images},y=mnist.train.labels,batch_size=batch_size,shuffle=False,num_epochs=None)\n",
    "model.train(input_fn,steps=train_steps)"
   ]
  },
  {
   "cell_type": "markdown",
   "metadata": {},
   "source": [
    "#### 测试模型"
   ]
  },
  {
   "cell_type": "code",
   "execution_count": 7,
   "metadata": {},
   "outputs": [
    {
     "name": "stdout",
     "output_type": "stream",
     "text": [
      "INFO:tensorflow:Calling model_fn.\n",
      "INFO:tensorflow:Done calling model_fn.\n",
      "INFO:tensorflow:Starting evaluation at 2019-01-24-08:50:45\n",
      "INFO:tensorflow:Graph was finalized.\n",
      "INFO:tensorflow:Restoring parameters from ./model_birnn\\model.ckpt-4300\n",
      "INFO:tensorflow:Running local_init_op.\n",
      "INFO:tensorflow:Done running local_init_op.\n",
      "INFO:tensorflow:Finished evaluation at 2019-01-24-08:50:47\n",
      "INFO:tensorflow:Saving dict for global step 4300: accuracy = 0.9754, global_step = 4300, loss = 0.08138572\n",
      "INFO:tensorflow:Saving 'checkpoint_path' summary for global step 4300: ./model_birnn\\model.ckpt-4300\n"
     ]
    },
    {
     "data": {
      "text/plain": [
       "{'accuracy': 0.9754, 'loss': 0.08138572, 'global_step': 4300}"
      ]
     },
     "execution_count": 7,
     "metadata": {},
     "output_type": "execute_result"
    }
   ],
   "source": [
    "input_fn = tf.estimator.inputs.numpy_input_fn(x={\"images\":mnist.test.images},y=mnist.test.labels,batch_size=batch_size,shuffle=False)\n",
    "model.evaluate(input_fn)"
   ]
  }
 ],
 "metadata": {
  "kernelspec": {
   "display_name": "Python 3",
   "language": "python",
   "name": "python3"
  },
  "language_info": {
   "codemirror_mode": {
    "name": "ipython",
    "version": 3
   },
   "file_extension": ".py",
   "mimetype": "text/x-python",
   "name": "python",
   "nbconvert_exporter": "python",
   "pygments_lexer": "ipython3",
   "version": "3.6.5"
  }
 },
 "nbformat": 4,
 "nbformat_minor": 2
}
